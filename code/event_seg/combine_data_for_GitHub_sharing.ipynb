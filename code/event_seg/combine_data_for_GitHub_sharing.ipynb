{
 "cells": [
  {
   "cell_type": "markdown",
   "metadata": {},
   "source": [
    "### The goal of this notebook is save out:\n",
    "1. the median number of events in each ROI (to be implemented into HMM_indiv_no_range_no_train.py\n",
    "2. A dictionary of the subject-by-subject alignment matrices for each subject\n",
    "3. A dictionary of the boundaries per individual subject\n",
    "\n",
    "- *These are saved out in order for others to be able to replicate the figures or use our data*"
   ]
  },
  {
   "cell_type": "code",
   "execution_count": 35,
   "metadata": {},
   "outputs": [],
   "source": [
    "import numpy as np\n",
    "schaefer_dir = '/dartfs/rc/lab/F/FinnLab/clara/K99_EventSeg/data/_schaeffer_rois/'\n"
   ]
  },
  {
   "cell_type": "markdown",
   "metadata": {},
   "source": [
    "#### 1. the median number of events in each ROI (to be implemented into HMM_indiv_no_range_no_train.py. \n",
    "- Made a dictionary that is in the data/event_seg folder"
   ]
  },
  {
   "cell_type": "code",
   "execution_count": 14,
   "metadata": {},
   "outputs": [],
   "source": [
    "num_events = {}\n",
    "for mov in ['iteration','defeat','growth','lemonade']:\n",
    "    num_events[mov] = {}"
   ]
  },
  {
   "cell_type": "code",
   "execution_count": 15,
   "metadata": {},
   "outputs": [],
   "source": [
    "for mov in ['iteration','defeat','growth','lemonade']:\n",
    "    for node in range(1,101):\n",
    "        a = np.load(schaefer_dir + '_event_avg/%s/%s_node%s_event_distribution.npy' %(mov,mov,node))\n",
    "        num_events[mov][f'node_{node}'] = np.median(a)\n"
   ]
  },
  {
   "cell_type": "code",
   "execution_count": 17,
   "metadata": {},
   "outputs": [
    {
     "data": {
      "text/plain": [
       "'/dartfs/rc/lab/F/FinnLab/clara/K99_event_seg_pub/individual_event_seg/code/event_seg'"
      ]
     },
     "execution_count": 17,
     "metadata": {},
     "output_type": "execute_result"
    }
   ],
   "source": [
    "pwd"
   ]
  },
  {
   "cell_type": "code",
   "execution_count": 20,
   "metadata": {},
   "outputs": [],
   "source": [
    "np.save('../../data/event_seg/number_of_events_dict.npy',num_events)"
   ]
  },
  {
   "cell_type": "markdown",
   "metadata": {},
   "source": [
    "#### 2. match \"z-score\" matrices\n",
    "- putting them into a dictionary for ease of storage on GitHub"
   ]
  },
  {
   "cell_type": "code",
   "execution_count": 36,
   "metadata": {},
   "outputs": [
    {
     "name": "stdout",
     "output_type": "stream",
     "text": [
      "The matrices are subject by subject - shape (43, 43)\n"
     ]
    }
   ],
   "source": [
    "matchz_mat = np.load(schaefer_dir + \"_comparisons_no_range_no_train/_matchz_individuals/\"+ \"%s/matchz_ind_44by44_node%s_%s_no_range_no_train.npy\" %(mov,node,mov))\n",
    "print(f'The matrices are subject by subject - shape {matchz_mat.shape}')\n"
   ]
  },
  {
   "cell_type": "code",
   "execution_count": 37,
   "metadata": {},
   "outputs": [],
   "source": [
    "matchz_dict = {}\n",
    "for mov in ['iteration','defeat','growth','lemonade']:\n",
    "    matchz_dict[mov] = {}"
   ]
  },
  {
   "cell_type": "code",
   "execution_count": 38,
   "metadata": {},
   "outputs": [],
   "source": [
    "for mov in ['iteration','defeat','growth','lemonade']:\n",
    "    for node in range(1,101):\n",
    "        matchz_mat = np.load(schaefer_dir + \"_comparisons_no_range_no_train/_matchz_individuals/\"+ \"%s/matchz_ind_44by44_node%s_%s_no_range_no_train.npy\" %(mov,node,mov))\n",
    "        matchz_dict[mov][f'node_{node}'] = matchz_mat\n"
   ]
  },
  {
   "cell_type": "code",
   "execution_count": 63,
   "metadata": {},
   "outputs": [],
   "source": [
    "np.save('../../data/event_seg/matchz_matrices_concat.npy',matchz_dict)"
   ]
  },
  {
   "cell_type": "code",
   "execution_count": null,
   "metadata": {},
   "outputs": [],
   "source": []
  },
  {
   "cell_type": "markdown",
   "metadata": {},
   "source": [
    "#### 3. boundary files per subject per ROI\n",
    "- putting them into a dictionary for ease of storage on GitHub"
   ]
  },
  {
   "cell_type": "code",
   "execution_count": 57,
   "metadata": {},
   "outputs": [],
   "source": [
    "\n",
    "bound_dict = {}\n",
    "for mov in ['iteration','defeat','growth','lemonade']:\n",
    "    bound_dict[mov] = {}\n",
    "\n",
    "for mov in ['iteration','defeat','growth','lemonade']:\n",
    "    for sub in range(43):\n",
    "        bounds_sm = np.load(schaefer_dir + '_comparisons_no_range_no_train/_individual_subjs_HMM/'+'%s/sub%s_event_boundaries_sm_%s_HMM_zscore.npy' %(mov,sub,mov), allow_pickle=True)\n",
    "        bound_dict[mov][f'sub_{sub}'] = bounds_sm.item()\n"
   ]
  },
  {
   "cell_type": "code",
   "execution_count": 60,
   "metadata": {},
   "outputs": [
    {
     "data": {
      "text/plain": [
       "array([  4,  14,  28,  55,  67,  82, 106, 114, 138, 164, 181, 196, 215,\n",
       "       230, 246, 262, 277, 301, 334, 354, 379, 411, 433, 448, 462])"
      ]
     },
     "execution_count": 60,
     "metadata": {},
     "output_type": "execute_result"
    }
   ],
   "source": [
    "bound_dict['defeat']['sub_42'][1]\n",
    "#this is organized as movie--> subject--> node--> boundaries in that node"
   ]
  },
  {
   "cell_type": "code",
   "execution_count": 62,
   "metadata": {},
   "outputs": [],
   "source": [
    "np.save('../../data/event_seg/boundary_locations_per_individual.npy',bound_dict)"
   ]
  }
 ],
 "metadata": {
  "kernelspec": {
   "display_name": "brainiak_py37",
   "language": "python",
   "name": "brainiak_py37"
  },
  "language_info": {
   "codemirror_mode": {
    "name": "ipython",
    "version": 3
   },
   "file_extension": ".py",
   "mimetype": "text/x-python",
   "name": "python",
   "nbconvert_exporter": "python",
   "pygments_lexer": "ipython3",
   "version": "3.7.9"
  }
 },
 "nbformat": 4,
 "nbformat_minor": 4
}
